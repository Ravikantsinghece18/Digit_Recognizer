{
 "cells": [
  {
   "cell_type": "code",
   "execution_count": 1,
   "metadata": {},
   "outputs": [],
   "source": [
    "import numpy as np\n",
    "import pandas as pd\n",
    "import tensorflow as tf"
   ]
  },
  {
   "cell_type": "code",
   "execution_count": 2,
   "metadata": {},
   "outputs": [],
   "source": [
    "df=pd.read_csv('train.csv')\n",
    "dt=pd.read_csv('test.csv')"
   ]
  },
  {
   "cell_type": "code",
   "execution_count": 3,
   "metadata": {
    "scrolled": true
   },
   "outputs": [],
   "source": [
    "train=df.drop(columns=['label']).to_numpy().reshape((-1,28,28,1))/255\n",
    "label=df['label'].to_numpy()\n",
    "test=dt.to_numpy().reshape((-1,28,28,1))/255"
   ]
  },
  {
   "cell_type": "code",
   "execution_count": 4,
   "metadata": {},
   "outputs": [],
   "source": [
    "datagen =tf.keras.preprocessing.image.ImageDataGenerator(\n",
    "        featurewise_center=False,  # set input mean to 0 over the dataset\n",
    "        samplewise_center=False,  # set each sample mean to 0\n",
    "        featurewise_std_normalization=False,  # divide inputs by std of the dataset\n",
    "        samplewise_std_normalization=False,  # divide each input by its std\n",
    "        zca_whitening=False,  # apply ZCA whitening\n",
    "        rotation_range=10,  # randomly rotate images in the range (degrees, 0 to 180)\n",
    "        zoom_range = 0.1, # Randomly zoom image \n",
    "        width_shift_range=0.1,  # randomly shift images horizontally (fraction of total width)\n",
    "        height_shift_range=0.1,  # randomly shift images vertically (fraction of total height)\n",
    "        horizontal_flip=False,  # randomly flip images\n",
    "        vertical_flip=False)  # randomly flip images\n",
    "\n",
    "\n",
    "datagen.fit(train)"
   ]
  },
  {
   "cell_type": "code",
   "execution_count": 5,
   "metadata": {},
   "outputs": [],
   "source": [
    "model=tf.keras.Sequential()\n",
    "model.add(tf.keras.layers.Conv2D(32,kernel_size=(3,3),input_shape=(28,28,1),use_bias=True,activation='relu'))\n",
    "model.add(tf.keras.layers.MaxPool2D(pool_size=(2,2),strides=(2,2)))\n",
    "model.add(tf.keras.layers.Dropout(0.25))\n",
    "model.add(tf.keras.layers.Conv2D(128,kernel_size=(4,4),use_bias=True,activation='relu'))\n",
    "model.add(tf.keras.layers.MaxPool2D(pool_size=(2,2),strides=(2,2)))\n",
    "model.add(tf.keras.layers.Dropout(0.2))\n",
    "model.add(tf.keras.layers.Conv2D(256,kernel_size=(4,4),use_bias=True,activation='relu'))\n",
    "model.add(tf.keras.layers.MaxPool2D(pool_size=(2,2)))\n",
    "model.add(tf.keras.layers.Dropout(0.2))\n",
    "model.add(tf.keras.layers.Flatten())\n",
    "model.add(tf.keras.layers.Dense(128,activation='relu'))\n",
    "model.add(tf.keras.layers.Dense(32,activation='relu'))\n",
    "model.add(tf.keras.layers.BatchNormalization())\n",
    "model.add(tf.keras.layers.Dense(10,activation=tf.nn.softmax))\n",
    "model.compile(optimizer='adam', loss='sparse_categorical_crossentropy',metrics=['accuracy'])"
   ]
  },
  {
   "cell_type": "code",
   "execution_count": 6,
   "metadata": {},
   "outputs": [
    {
     "name": "stdout",
     "output_type": "stream",
     "text": [
      "Train on 42000 samples\n",
      "Epoch 1/80\n",
      "42000/42000 [==============================] - 16s 372us/sample - loss: 0.1899 - acc: 0.9482\n",
      "Epoch 2/80\n",
      "42000/42000 [==============================] - 13s 302us/sample - loss: 0.0606 - acc: 0.9820\n",
      "Epoch 3/80\n",
      "42000/42000 [==============================] - 13s 316us/sample - loss: 0.0471 - acc: 0.9854\n",
      "Epoch 4/80\n",
      "42000/42000 [==============================] - 14s 323us/sample - loss: 0.0350 - acc: 0.9893\n",
      "Epoch 5/80\n",
      "42000/42000 [==============================] - 13s 310us/sample - loss: 0.0324 - acc: 0.9899\n",
      "Epoch 6/80\n",
      "42000/42000 [==============================] - 13s 311us/sample - loss: 0.0281 - acc: 0.9914\n",
      "Epoch 7/80\n",
      "42000/42000 [==============================] - 13s 316us/sample - loss: 0.0243 - acc: 0.9929\n",
      "Epoch 8/80\n",
      "42000/42000 [==============================] - 14s 329us/sample - loss: 0.0224 - acc: 0.9931\n",
      "Epoch 9/80\n",
      "42000/42000 [==============================] - 14s 329us/sample - loss: 0.0196 - acc: 0.9943\n",
      "Epoch 10/80\n",
      "42000/42000 [==============================] - 14s 328us/sample - loss: 0.0174 - acc: 0.9948\n",
      "Epoch 11/80\n",
      "42000/42000 [==============================] - 14s 336us/sample - loss: 0.0178 - acc: 0.9947\n",
      "Epoch 12/80\n",
      "42000/42000 [==============================] - 15s 347us/sample - loss: 0.0133 - acc: 0.9962\n",
      "Epoch 13/80\n",
      "42000/42000 [==============================] - 14s 332us/sample - loss: 0.0140 - acc: 0.9957\n",
      "Epoch 14/80\n",
      "42000/42000 [==============================] - 14s 332us/sample - loss: 0.0137 - acc: 0.9957\n",
      "Epoch 15/80\n",
      "42000/42000 [==============================] - 14s 328us/sample - loss: 0.0117 - acc: 0.9961\n",
      "Epoch 16/80\n",
      "42000/42000 [==============================] - 13s 317us/sample - loss: 0.0127 - acc: 0.9956\n",
      "Epoch 17/80\n",
      "42000/42000 [==============================] - 13s 317us/sample - loss: 0.0114 - acc: 0.9964\n",
      "Epoch 18/80\n",
      "42000/42000 [==============================] - 13s 316us/sample - loss: 0.0106 - acc: 0.9967\n",
      "Epoch 19/80\n",
      "42000/42000 [==============================] - ETA: 0s - loss: 0.0077 - acc: 0.997 - 13s 317us/sample - loss: 0.0077 - acc: 0.9974\n",
      "Epoch 20/80\n",
      "42000/42000 [==============================] - 13s 320us/sample - loss: 0.0094 - acc: 0.9972\n",
      "Epoch 21/80\n",
      "42000/42000 [==============================] - 13s 318us/sample - loss: 0.0092 - acc: 0.9971\n",
      "Epoch 22/80\n",
      "42000/42000 [==============================] - 14s 327us/sample - loss: 0.0076 - acc: 0.9977\n",
      "Epoch 23/80\n",
      "42000/42000 [==============================] - 14s 326us/sample - loss: 0.0092 - acc: 0.9969\n",
      "Epoch 24/80\n",
      "42000/42000 [==============================] - 13s 314us/sample - loss: 0.0076 - acc: 0.9977\n",
      "Epoch 25/80\n",
      "42000/42000 [==============================] - 13s 310us/sample - loss: 0.0072 - acc: 0.9976\n",
      "Epoch 26/80\n",
      "42000/42000 [==============================] - 13s 316us/sample - loss: 0.0094 - acc: 0.9972\n",
      "Epoch 27/80\n",
      "42000/42000 [==============================] - 13s 312us/sample - loss: 0.0051 - acc: 0.9983\n",
      "Epoch 28/80\n",
      "42000/42000 [==============================] - 13s 311us/sample - loss: 0.0066 - acc: 0.9979\n",
      "Epoch 29/80\n",
      "42000/42000 [==============================] - 13s 317us/sample - loss: 0.0068 - acc: 0.9979\n",
      "Epoch 30/80\n",
      "42000/42000 [==============================] - 14s 325us/sample - loss: 0.0059 - acc: 0.9980\n",
      "Epoch 31/80\n",
      "42000/42000 [==============================] - 14s 326us/sample - loss: 0.0060 - acc: 0.9981\n",
      "Epoch 32/80\n",
      "42000/42000 [==============================] - 13s 317us/sample - loss: 0.0068 - acc: 0.9979\n",
      "Epoch 33/80\n",
      "42000/42000 [==============================] - 14s 323us/sample - loss: 0.0058 - acc: 0.9981\n",
      "Epoch 34/80\n",
      "42000/42000 [==============================] - 13s 313us/sample - loss: 0.0056 - acc: 0.9982\n",
      "Epoch 35/80\n",
      "42000/42000 [==============================] - 13s 320us/sample - loss: 0.0062 - acc: 0.9981\n",
      "Epoch 36/80\n",
      "42000/42000 [==============================] - 13s 316us/sample - loss: 0.0055 - acc: 0.9984\n",
      "Epoch 37/80\n",
      "42000/42000 [==============================] - 13s 321us/sample - loss: 0.0043 - acc: 0.9985\n",
      "Epoch 38/80\n",
      "42000/42000 [==============================] - 13s 317us/sample - loss: 0.0068 - acc: 0.9978\n",
      "Epoch 39/80\n",
      "42000/42000 [==============================] - 13s 310us/sample - loss: 0.0045 - acc: 0.9985\n",
      "Epoch 40/80\n",
      "42000/42000 [==============================] - 13s 316us/sample - loss: 0.0049 - acc: 0.9986\n",
      "Epoch 41/80\n",
      "42000/42000 [==============================] - 13s 316us/sample - loss: 0.0049 - acc: 0.9983\n",
      "Epoch 42/80\n",
      "42000/42000 [==============================] - 13s 309us/sample - loss: 0.0032 - acc: 0.9987\n",
      "Epoch 43/80\n",
      "42000/42000 [==============================] - 13s 320us/sample - loss: 0.0052 - acc: 0.9984\n",
      "Epoch 44/80\n",
      "42000/42000 [==============================] - 13s 313us/sample - loss: 0.0039 - acc: 0.9987\n",
      "Epoch 45/80\n",
      "42000/42000 [==============================] - 13s 316us/sample - loss: 0.0048 - acc: 0.9985\n",
      "Epoch 46/80\n",
      "42000/42000 [==============================] - 13s 312us/sample - loss: 0.0049 - acc: 0.9986\n",
      "Epoch 47/80\n",
      "42000/42000 [==============================] - 13s 310us/sample - loss: 0.0035 - acc: 0.9989\n",
      "Epoch 48/80\n",
      "42000/42000 [==============================] - 13s 310us/sample - loss: 0.0029 - acc: 0.9992\n",
      "Epoch 49/80\n",
      "42000/42000 [==============================] - 13s 312us/sample - loss: 0.0045 - acc: 0.9986\n",
      "Epoch 50/80\n",
      "42000/42000 [==============================] - 13s 314us/sample - loss: 0.0041 - acc: 0.9987\n",
      "Epoch 51/80\n",
      "42000/42000 [==============================] - 13s 311us/sample - loss: 0.0046 - acc: 0.9986\n",
      "Epoch 52/80\n",
      "42000/42000 [==============================] - 14s 323us/sample - loss: 0.0036 - acc: 0.9988\n",
      "Epoch 53/80\n",
      "42000/42000 [==============================] - 13s 309us/sample - loss: 0.0034 - acc: 0.9990\n",
      "Epoch 54/80\n",
      "42000/42000 [==============================] - 13s 309us/sample - loss: 0.0035 - acc: 0.9990\n",
      "Epoch 55/80\n",
      "42000/42000 [==============================] - 13s 316us/sample - loss: 0.0039 - acc: 0.9990\n",
      "Epoch 56/80\n",
      "42000/42000 [==============================] - 14s 322us/sample - loss: 0.0043 - acc: 0.9986\n",
      "Epoch 57/80\n",
      "42000/42000 [==============================] - 13s 318us/sample - loss: 0.0029 - acc: 0.9991\n",
      "Epoch 58/80\n",
      "42000/42000 [==============================] - 13s 313us/sample - loss: 0.0042 - acc: 0.9987\n",
      "Epoch 59/80\n",
      "42000/42000 [==============================] - 13s 318us/sample - loss: 0.0029 - acc: 0.9991\n",
      "Epoch 60/80\n",
      "42000/42000 [==============================] - 13s 320us/sample - loss: 0.0038 - acc: 0.9990\n",
      "Epoch 61/80\n",
      "42000/42000 [==============================] - 14s 322us/sample - loss: 0.0034 - acc: 0.9989\n",
      "Epoch 62/80\n",
      "42000/42000 [==============================] - 13s 321us/sample - loss: 0.0035 - acc: 0.9991\n",
      "Epoch 63/80\n",
      "42000/42000 [==============================] - 13s 317us/sample - loss: 0.0025 - acc: 0.9993\n",
      "Epoch 64/80\n",
      "42000/42000 [==============================] - 13s 317us/sample - loss: 0.0029 - acc: 0.9990\n",
      "Epoch 65/80\n",
      "42000/42000 [==============================] - 13s 308us/sample - loss: 0.0036 - acc: 0.9989\n",
      "Epoch 66/80\n",
      "42000/42000 [==============================] - 13s 308us/sample - loss: 0.0029 - acc: 0.9991\n",
      "Epoch 67/80\n",
      "42000/42000 [==============================] - 13s 314us/sample - loss: 0.0023 - acc: 0.9993\n",
      "Epoch 68/80\n",
      "42000/42000 [==============================] - 13s 316us/sample - loss: 0.0038 - acc: 0.9988\n",
      "Epoch 69/80\n",
      "42000/42000 [==============================] - 13s 311us/sample - loss: 0.0036 - acc: 0.9989\n",
      "Epoch 70/80\n",
      "42000/42000 [==============================] - 14s 322us/sample - loss: 0.0029 - acc: 0.9990\n",
      "Epoch 71/80\n",
      "42000/42000 [==============================] - 13s 310us/sample - loss: 0.0030 - acc: 0.9991\n",
      "Epoch 72/80\n",
      "42000/42000 [==============================] - 13s 308us/sample - loss: 0.0026 - acc: 0.9992\n",
      "Epoch 73/80\n",
      "42000/42000 [==============================] - 13s 305us/sample - loss: 0.0027 - acc: 0.9990\n",
      "Epoch 74/80\n",
      "42000/42000 [==============================] - 13s 308us/sample - loss: 0.0023 - acc: 0.9993\n",
      "Epoch 75/80\n",
      "42000/42000 [==============================] - 13s 313us/sample - loss: 0.0021 - acc: 0.9994\n",
      "Epoch 76/80\n",
      "42000/42000 [==============================] - 13s 312us/sample - loss: 0.0018 - acc: 0.9994\n",
      "Epoch 77/80\n",
      "42000/42000 [==============================] - 13s 314us/sample - loss: 0.0023 - acc: 0.9994\n",
      "Epoch 78/80\n"
     ]
    },
    {
     "name": "stdout",
     "output_type": "stream",
     "text": [
      "42000/42000 [==============================] - 13s 316us/sample - loss: 0.0035 - acc: 0.9990\n",
      "Epoch 79/80\n",
      "42000/42000 [==============================] - 13s 314us/sample - loss: 0.0020 - acc: 0.9993\n",
      "Epoch 80/80\n",
      "42000/42000 [==============================] - 13s 315us/sample - loss: 0.0029 - acc: 0.9990\n"
     ]
    },
    {
     "data": {
      "text/plain": [
       "<tensorflow.python.keras.callbacks.History at 0x24e0066c550>"
      ]
     },
     "execution_count": 6,
     "metadata": {},
     "output_type": "execute_result"
    }
   ],
   "source": [
    "model.fit(train,label,epochs=80)"
   ]
  },
  {
   "cell_type": "code",
   "execution_count": 7,
   "metadata": {},
   "outputs": [],
   "source": [
    "result=model.predict(test)\n",
    "ans=np.argmax(result,axis=1)\n",
    "answer=pd.read_csv('sample_submission.csv')\n",
    "answer['Label']=ans\n",
    "ans=np.argmax(result,axis=1)\n",
    "answer.index=answer['ImageId']\n",
    "answer.drop(columns=['ImageId']).to_csv('answer.csv')"
   ]
  },
  {
   "cell_type": "code",
   "execution_count": 21,
   "metadata": {},
   "outputs": [
    {
     "name": "stdout",
     "output_type": "stream",
     "text": [
      "Successfully submitted to Digit Recognizer\n"
     ]
    },
    {
     "name": "stderr",
     "output_type": "stream",
     "text": [
      "\n",
      "  0%|          | 0.00/235k [00:00<?, ?B/s]\n",
      "  3%|3         | 8.00k/235k [00:00<00:09, 25.0kB/s]\n",
      " 41%|####      | 96.0k/235k [00:00<00:04, 34.6kB/s]\n",
      " 48%|####7     | 112k/235k [00:00<00:03, 37.9kB/s] \n",
      " 54%|#####4    | 128k/235k [00:01<00:02, 38.6kB/s]\n",
      " 85%|########5 | 200k/235k [00:01<00:00, 53.6kB/s]\n",
      " 95%|#########5| 224k/235k [00:01<00:00, 63.3kB/s]\n",
      "100%|##########| 235k/235k [00:15<00:00, 15.1kB/s]\n"
     ]
    }
   ],
   "source": [
    "!kaggle competitions submit digit-recognizer -f answer.csv -m \"Latest Submission\""
   ]
  },
  {
   "cell_type": "code",
   "execution_count": 24,
   "metadata": {},
   "outputs": [
    {
     "name": "stdout",
     "output_type": "stream",
     "text": [
      "fileName    date                 description        status    publicScore  privateScore  \n",
      "----------  -------------------  -----------------  --------  -----------  ------------  \n",
      "answer.csv  2019-06-12 19:13:38  Latest Submission  complete  0.99428      None          \n",
      "answer.csv  2019-06-01 18:02:27  None               complete  0.99400      None          \n",
      "answer.csv  2019-06-01 17:55:14  None               complete  0.99542      None          \n",
      "answer.csv  2019-06-01 17:39:41  None               complete  0.99428      None          \n",
      "answer.csv  2019-05-27 18:47:30  None               complete  0.99300      None          \n",
      "answer.csv  2019-05-27 18:39:27  None               complete  0.99357      None          \n",
      "answer.csv  2019-05-27 18:30:37  None               complete  0.99314      None          \n",
      "answer.csv  2019-05-27 18:25:51  None               complete  0.99200      None          \n",
      "answer.csv  2019-05-27 18:12:26  None               complete  0.98871      None          \n",
      "answer.csv  2019-05-25 20:02:52  None               complete  0.98771      None          \n",
      "answer.csv  2019-05-25 19:50:34  None               complete  0.99257      None          \n",
      "answer.csv  2019-05-25 19:45:44  None               complete  0.98800      None          \n",
      "answer.csv  2019-05-25 19:25:06  None               complete  0.96442      None          \n",
      "answer.csv  2019-05-25 19:16:17                     complete  0.98800      None          \n",
      "answer.csv  2019-05-25 19:15:24  None               error     None         None          \n",
      "answer.csv  2019-05-19 11:27:41                     complete  0.97828      None          \n",
      "answer.csv  2019-05-19 11:24:33                     error     None         None          \n",
      "answer.csv  2019-05-19 11:22:05  None               error     None         None          \n"
     ]
    }
   ],
   "source": [
    "!kaggle competitions submissions digit-recognizer"
   ]
  },
  {
   "cell_type": "code",
   "execution_count": null,
   "metadata": {},
   "outputs": [],
   "source": []
  }
 ],
 "metadata": {
  "kernelspec": {
   "display_name": "Python 3",
   "language": "python",
   "name": "python3"
  },
  "language_info": {
   "codemirror_mode": {
    "name": "ipython",
    "version": 3
   },
   "file_extension": ".py",
   "mimetype": "text/x-python",
   "name": "python",
   "nbconvert_exporter": "python",
   "pygments_lexer": "ipython3",
   "version": "3.7.3"
  }
 },
 "nbformat": 4,
 "nbformat_minor": 2
}
